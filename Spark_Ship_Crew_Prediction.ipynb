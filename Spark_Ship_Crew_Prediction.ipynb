{
 "cells": [
  {
   "cell_type": "code",
   "execution_count": 1,
   "metadata": {
    "id": "znTRmYtF0L4i"
   },
   "outputs": [],
   "source": [
    "import pandas as pd\n",
    "import seaborn as sns\n",
    "import matplotlib.pyplot as plt"
   ]
  },
  {
   "cell_type": "code",
   "execution_count": 2,
   "metadata": {
    "id": "JoCd3_CL0qq0"
   },
   "outputs": [],
   "source": [
    "from pyspark.sql import SparkSession\n",
    "from pyspark.sql import SQLContext"
   ]
  },
  {
   "cell_type": "code",
   "execution_count": 3,
   "metadata": {
    "id": "SDXPEojj0quk"
   },
   "outputs": [],
   "source": [
    "spark=SparkSession.builder.appName(\"ML_Spark\").getOrCreate()"
   ]
  },
  {
   "cell_type": "code",
   "execution_count": 4,
   "metadata": {
    "colab": {
     "base_uri": "https://localhost:8080/",
     "height": 35
    },
    "id": "SxdM8RZY0qyY",
    "outputId": "4e37a603-913a-463f-9023-0303de9f86ce"
   },
   "outputs": [
    {
     "data": {
      "application/vnd.google.colaboratory.intrinsic+json": {
       "type": "string"
      },
      "text/plain": [
       "'3.5.1'"
      ]
     },
     "execution_count": 4,
     "metadata": {},
     "output_type": "execute_result"
    }
   ],
   "source": [
    "spark.version"
   ]
  },
  {
   "cell_type": "code",
   "execution_count": 23,
   "metadata": {
    "colab": {
     "base_uri": "https://localhost:8080/"
    },
    "id": "rNAjrvHN0q0o",
    "outputId": "dc901628-6e72-43db-ff5a-4fc2f8c60fba"
   },
   "outputs": [
    {
     "name": "stdout",
     "output_type": "stream",
     "text": [
      "+-----------+-----------+---+------------------+----------+------+------+-----------------+----+\n",
      "|  Ship_name|Cruise_line|Age|           Tonnage|passengers|length|cabins|passenger_density|crew|\n",
      "+-----------+-----------+---+------------------+----------+------+------+-----------------+----+\n",
      "|    Journey|    Azamara|  6|30.276999999999997|      6.94|  5.94|  3.55|            42.64|3.55|\n",
      "|      Quest|    Azamara|  6|30.276999999999997|      6.94|  5.94|  3.55|            42.64|3.55|\n",
      "|Celebration|   Carnival| 26|            47.262|     14.86|  7.22|  7.43|             31.8| 6.7|\n",
      "|   Conquest|   Carnival| 11|             110.0|     29.74|  9.53| 14.88|            36.99|19.1|\n",
      "|    Destiny|   Carnival| 17|           101.353|     26.42|  8.92| 13.21|            38.36|10.0|\n",
      "|    Ecstasy|   Carnival| 22|            70.367|     20.52|  8.55|  10.2|            34.29| 9.2|\n",
      "|    Elation|   Carnival| 15|            70.367|     20.52|  8.55|  10.2|            34.29| 9.2|\n",
      "|    Fantasy|   Carnival| 23|            70.367|     20.56|  8.55| 10.22|            34.23| 9.2|\n",
      "|Fascination|   Carnival| 19|            70.367|     20.52|  8.55|  10.2|            34.29| 9.2|\n",
      "|    Freedom|   Carnival|  6|110.23899999999999|      37.0|  9.51| 14.87|            29.79|11.5|\n",
      "|      Glory|   Carnival| 10|             110.0|     29.74|  9.51| 14.87|            36.99|11.6|\n",
      "|    Holiday|   Carnival| 28|            46.052|     14.52|  7.27|  7.26|            31.72| 6.6|\n",
      "|Imagination|   Carnival| 18|            70.367|     20.52|  8.55|  10.2|            34.29| 9.2|\n",
      "|Inspiration|   Carnival| 17|            70.367|     20.52|  8.55|  10.2|            34.29| 9.2|\n",
      "|     Legend|   Carnival| 11|              86.0|     21.24|  9.63| 10.62|            40.49| 9.3|\n",
      "|   Liberty*|   Carnival|  8|             110.0|     29.74|  9.51| 14.87|            36.99|11.6|\n",
      "|    Miracle|   Carnival|  9|              88.5|     21.24|  9.63| 10.62|            41.67|10.3|\n",
      "|   Paradise|   Carnival| 15|            70.367|     20.52|  8.55|  10.2|            34.29| 9.2|\n",
      "|      Pride|   Carnival| 12|              88.5|     21.24|  9.63| 11.62|            41.67| 9.3|\n",
      "|  Sensation|   Carnival| 20|            70.367|     20.52|  8.55|  10.2|            34.29| 9.2|\n",
      "+-----------+-----------+---+------------------+----------+------+------+-----------------+----+\n",
      "only showing top 20 rows\n",
      "\n"
     ]
    }
   ],
   "source": [
    "sdf=spark.read.csv(\"cruise_ship_info.csv\",inferSchema=True,header=True)\n",
    "sdf.show()"
   ]
  },
  {
   "cell_type": "code",
   "execution_count": 6,
   "metadata": {
    "colab": {
     "base_uri": "https://localhost:8080/"
    },
    "id": "AzrLA8K00yH0",
    "outputId": "bbc6336a-5772-4076-dce6-fa425de9d4b6"
   },
   "outputs": [
    {
     "data": {
      "text/plain": [
       "['Ship_name',\n",
       " 'Cruise_line',\n",
       " 'Age',\n",
       " 'Tonnage',\n",
       " 'passengers',\n",
       " 'length',\n",
       " 'cabins',\n",
       " 'passenger_density',\n",
       " 'crew']"
      ]
     },
     "execution_count": 6,
     "metadata": {},
     "output_type": "execute_result"
    }
   ],
   "source": [
    "sdf.columns"
   ]
  },
  {
   "cell_type": "code",
   "execution_count": 7,
   "metadata": {
    "id": "aJwXSlWD0yKe"
   },
   "outputs": [],
   "source": [
    "from pyspark.ml.feature import StringIndexer\n",
    "indexer=StringIndexer(inputCol='Cruise_line',outputCol='cruise_cat')\n",
    "indexed = indexer.fit(sdf).transform(sdf)"
   ]
  },
  {
   "cell_type": "code",
   "execution_count": 8,
   "metadata": {
    "id": "5y8gcnji0yNS"
   },
   "outputs": [],
   "source": [
    "from pyspark.ml.linalg import Vectors\n",
    "from pyspark.ml.feature import VectorAssembler\n",
    "\n",
    "assembler=VectorAssembler(inputCols=['Age','Tonnage','passengers','length','cabins','passenger_density','cruise_cat'],outputCol='features')"
   ]
  },
  {
   "cell_type": "code",
   "execution_count": 9,
   "metadata": {
    "id": "gZczJyoy3EYT"
   },
   "outputs": [],
   "source": [
    "output=assembler.transform(indexed)"
   ]
  },
  {
   "cell_type": "code",
   "execution_count": 10,
   "metadata": {
    "colab": {
     "base_uri": "https://localhost:8080/"
    },
    "id": "JdevL_Zk3EcS",
    "outputId": "33dd3007-e465-4cfc-86f0-ede420ac6ae1"
   },
   "outputs": [
    {
     "name": "stdout",
     "output_type": "stream",
     "text": [
      "+--------------------+----+\n",
      "|            features|crew|\n",
      "+--------------------+----+\n",
      "|[6.0,30.276999999...|3.55|\n",
      "|[6.0,30.276999999...|3.55|\n",
      "|[26.0,47.262,14.8...| 6.7|\n",
      "|[11.0,110.0,29.74...|19.1|\n",
      "|[17.0,101.353,26....|10.0|\n",
      "+--------------------+----+\n",
      "only showing top 5 rows\n",
      "\n"
     ]
    }
   ],
   "source": [
    "output.select('features','crew').show(5)"
   ]
  },
  {
   "cell_type": "code",
   "execution_count": 11,
   "metadata": {
    "id": "S8kgsGU30yPx"
   },
   "outputs": [],
   "source": [
    "final_data=output.select('features','crew')"
   ]
  },
  {
   "cell_type": "code",
   "execution_count": 32,
   "metadata": {
    "id": "H1tGqBB03M0C"
   },
   "outputs": [],
   "source": [
    "train_data,test_data=final_data.randomSplit([0.7,0.3])"
   ]
  },
  {
   "cell_type": "code",
   "execution_count": 33,
   "metadata": {
    "colab": {
     "base_uri": "https://localhost:8080/"
    },
    "id": "FKw2GKV83M26",
    "outputId": "2fd33176-7c40-4f29-caaa-bb925f698ec3"
   },
   "outputs": [
    {
     "name": "stdout",
     "output_type": "stream",
     "text": [
      "+-------+------------------+\n",
      "|summary|              crew|\n",
      "+-------+------------------+\n",
      "|  count|               121|\n",
      "|   mean| 7.821074380165299|\n",
      "| stddev|3.3695110430775412|\n",
      "|    min|              0.59|\n",
      "|    max|              21.0|\n",
      "+-------+------------------+\n",
      "\n"
     ]
    }
   ],
   "source": [
    "train_data.describe().show()"
   ]
  },
  {
   "cell_type": "code",
   "execution_count": 34,
   "metadata": {
    "colab": {
     "base_uri": "https://localhost:8080/"
    },
    "id": "JkIWX0rx3Rei",
    "outputId": "0f7dab59-8edf-4e6e-af2c-e27dbc007b51"
   },
   "outputs": [
    {
     "name": "stdout",
     "output_type": "stream",
     "text": [
      "+-------+------------------+\n",
      "|summary|              crew|\n",
      "+-------+------------------+\n",
      "|  count|                37|\n",
      "|   mean| 7.706216216216214|\n",
      "| stddev|3.9590868415101252|\n",
      "|    min|              0.59|\n",
      "|    max|              19.1|\n",
      "+-------+------------------+\n",
      "\n"
     ]
    }
   ],
   "source": [
    "test_data.describe().show()"
   ]
  },
  {
   "cell_type": "code",
   "execution_count": 14,
   "metadata": {
    "id": "JjZz01hS3Rh5"
   },
   "outputs": [],
   "source": []
  },
  {
   "cell_type": "code",
   "execution_count": 35,
   "metadata": {
    "id": "z_hM63Bz3Rld"
   },
   "outputs": [],
   "source": [
    "from pyspark.ml.regression import LinearRegression"
   ]
  },
  {
   "cell_type": "code",
   "execution_count": 36,
   "metadata": {
    "id": "VtPIHx8a3bST"
   },
   "outputs": [],
   "source": [
    "ship_lr=LinearRegression(featuresCol='features',labelCol='crew')"
   ]
  },
  {
   "cell_type": "code",
   "execution_count": 37,
   "metadata": {
    "id": "U_HNmh0E3bVK"
   },
   "outputs": [],
   "source": [
    "trained_ship_model=ship_lr.fit(train_data)"
   ]
  },
  {
   "cell_type": "code",
   "execution_count": 38,
   "metadata": {
    "colab": {
     "base_uri": "https://localhost:8080/"
    },
    "id": "_1sNjtUK3bYN",
    "outputId": "c8d9290a-944f-4acf-9e1c-75402bd27515"
   },
   "outputs": [
    {
     "name": "stdout",
     "output_type": "stream",
     "text": [
      "+--------------------+-----+------------------+\n",
      "|            features| crew|        prediction|\n",
      "+--------------------+-----+------------------+\n",
      "|[5.0,133.5,39.59,...|13.13|13.031105416646406|\n",
      "|[5.0,160.0,36.34,...| 13.6|15.049619738300464|\n",
      "|[6.0,30.276999999...| 3.55| 4.430697241108387|\n",
      "|[6.0,90.0,20.0,9....|  9.0|10.132724616013254|\n",
      "|[6.0,110.23899999...| 11.5|10.868022443361259|\n",
      "|[9.0,88.5,21.24,9...| 10.3| 9.498052893282482|\n",
      "|[9.0,113.0,26.74,...|12.38|11.276080537412568|\n",
      "|[10.0,90.09,25.01...| 8.58| 8.820559241653402|\n",
      "|[11.0,58.6,15.66,...|  7.6|  7.38824888619991|\n",
      "|[11.0,86.0,21.24,...|  9.3| 9.435229877923602|\n",
      "|[11.0,91.0,20.32,...| 9.99|  9.26327907192606|\n",
      "|[11.0,110.0,29.74...| 19.1|11.899427234042555|\n",
      "|[11.0,138.0,31.14...|11.85|12.929268876147024|\n",
      "|[12.0,42.0,14.8,7...|  6.8| 6.597575929844923|\n",
      "|[12.0,58.6,15.66,...|  7.0| 7.379944039754382|\n",
      "|[12.0,88.5,21.24,...|10.29| 9.413529299101574|\n",
      "|[12.0,138.0,31.14...|11.85|12.916754550317465|\n",
      "|[13.0,25.0,3.82,5...| 2.95| 2.918720034127123|\n",
      "|[13.0,30.27699999...|  4.0| 4.058253013446695|\n",
      "|[13.0,63.0,14.4,7...| 5.31| 6.655248694160782|\n",
      "+--------------------+-----+------------------+\n",
      "only showing top 20 rows\n",
      "\n"
     ]
    }
   ],
   "source": [
    "pred=trained_ship_model.evaluate(test_data)\n",
    "pred.predictions.show()"
   ]
  },
  {
   "cell_type": "code",
   "execution_count": 42,
   "metadata": {
    "colab": {
     "base_uri": "https://localhost:8080/"
    },
    "id": "1dnjhySY6zjy",
    "outputId": "d426de94-2197-4630-946b-c4854cf5e509"
   },
   "outputs": [
    {
     "name": "stdout",
     "output_type": "stream",
     "text": [
      "📊 Model Evaluation Metrics:\n",
      "✅ R²: 0.8521\n",
      "✅ RMSE: 1.4218\n",
      "✅ MAE: 0.7325\n"
     ]
    }
   ],
   "source": [
    "from pyspark.ml.evaluation import RegressionEvaluator\n",
    "\n",
    "# Define evaluators for different metrics\n",
    "evaluator_r2 = RegressionEvaluator(labelCol='crew', predictionCol='prediction', metricName='r2')\n",
    "evaluator_rmse = RegressionEvaluator(labelCol='crew', predictionCol='prediction', metricName='rmse')\n",
    "evaluator_mae = RegressionEvaluator(labelCol='crew', predictionCol='prediction', metricName='mae')\n",
    "\n",
    "# Evaluate\n",
    "r2 = evaluator_r2.evaluate(predictions)\n",
    "rmse = evaluator_rmse.evaluate(predictions)\n",
    "mae = evaluator_mae.evaluate(predictions)\n",
    "\n",
    "# Print results\n",
    "print(\"📊 Model Evaluation Metrics:\")\n",
    "print(f\"✅ R²: {r2:.4f}\")\n",
    "print(f\"✅ RMSE: {rmse:.4f}\")\n",
    "print(f\"✅ MAE: {mae:.4f}\")\n"
   ]
  },
  {
   "cell_type": "code",
   "execution_count": 43,
   "metadata": {
    "colab": {
     "base_uri": "https://localhost:8080/"
    },
    "id": "NWxnqIcD7BCy",
    "outputId": "a3c4d1a4-7a20-4b5d-8d6b-8d4affbf3eaa"
   },
   "outputs": [
    {
     "name": "stdout",
     "output_type": "stream",
     "text": [
      "\n",
      "🚀 Training Linear Regression...\n",
      "\n",
      "🚀 Training Random Forest...\n",
      "\n",
      "🚀 Training Decision Tree...\n",
      "\n",
      "🚀 Training GBT Regressor...\n",
      "\n",
      "📈 Model Performance Comparison:\n",
      "Model                R²         RMSE       MAE       \n",
      "Linear Regression    0.8795     1.3554     0.7137    \n",
      "Random Forest        0.8899     1.2957     0.4643    \n",
      "Decision Tree        0.8890     1.3013     0.4955    \n",
      "GBT Regressor        0.8872     1.3116     0.4674    \n"
     ]
    }
   ],
   "source": [
    "from pyspark.ml.feature import VectorAssembler\n",
    "from pyspark.ml.regression import (\n",
    "    LinearRegression,\n",
    "    RandomForestRegressor,\n",
    "    DecisionTreeRegressor,\n",
    "    GBTRegressor\n",
    ")\n",
    "from pyspark.ml.evaluation import RegressionEvaluator\n",
    "\n",
    "evaluator_r2 = RegressionEvaluator(labelCol='crew', predictionCol='prediction', metricName='r2')\n",
    "evaluator_rmse = RegressionEvaluator(labelCol='crew', predictionCol='prediction', metricName='rmse')\n",
    "evaluator_mae = RegressionEvaluator(labelCol='crew', predictionCol='prediction', metricName='mae')\n",
    "\n",
    "# 5️⃣ Define models to train\n",
    "models = {\n",
    "    \"Linear Regression\": LinearRegression(featuresCol='features', labelCol='crew'),\n",
    "    \"Random Forest\": RandomForestRegressor(featuresCol='features', labelCol='crew', numTrees=100),\n",
    "    \"Decision Tree\": DecisionTreeRegressor(featuresCol='features', labelCol='crew'),\n",
    "    \"GBT Regressor\": GBTRegressor(featuresCol='features', labelCol='crew', maxIter=100)\n",
    "}\n",
    "\n",
    "# 6️⃣ Train and evaluate each model\n",
    "results = []\n",
    "\n",
    "for name, model in models.items():\n",
    "    print(f\"\\n🚀 Training {name}...\")\n",
    "    trained_model = model.fit(train_data)\n",
    "    predictions = trained_model.transform(test_data)\n",
    "\n",
    "    r2 = evaluator_r2.evaluate(predictions)\n",
    "    rmse = evaluator_rmse.evaluate(predictions)\n",
    "    mae = evaluator_mae.evaluate(predictions)\n",
    "\n",
    "    results.append((name, r2, rmse, mae))\n",
    "\n",
    "# 7️⃣ Display results\n",
    "print(\"\\n📈 Model Performance Comparison:\")\n",
    "print(f\"{'Model':<20} {'R²':<10} {'RMSE':<10} {'MAE':<10}\")\n",
    "for name, r2, rmse, mae in results:\n",
    "    print(f\"{name:<20} {r2:<10.4f} {rmse:<10.4f} {mae:<10.4f}\")"
   ]
  },
  {
   "cell_type": "code",
   "execution_count": null,
   "metadata": {
    "id": "Zzh2Zzhe7BJz"
   },
   "outputs": [],
   "source": []
  },
  {
   "cell_type": "code",
   "execution_count": null,
   "metadata": {
    "id": "O8SYMgS77BMx"
   },
   "outputs": [],
   "source": []
  },
  {
   "cell_type": "code",
   "execution_count": null,
   "metadata": {
    "id": "PXCl8-gQ7BPQ"
   },
   "outputs": [],
   "source": []
  }
 ],
 "metadata": {
  "colab": {
   "provenance": []
  },
  "kernelspec": {
   "display_name": "Python 3 (ipykernel)",
   "language": "python",
   "name": "python3"
  },
  "language_info": {
   "codemirror_mode": {
    "name": "ipython",
    "version": 3
   },
   "file_extension": ".py",
   "mimetype": "text/x-python",
   "name": "python",
   "nbconvert_exporter": "python",
   "pygments_lexer": "ipython3",
   "version": "3.9.13"
  }
 },
 "nbformat": 4,
 "nbformat_minor": 1
}
